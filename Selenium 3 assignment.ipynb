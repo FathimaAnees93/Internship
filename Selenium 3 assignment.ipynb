{
 "cells": [
  {
   "cell_type": "code",
   "execution_count": 1,
   "id": "c3de2e13",
   "metadata": {},
   "outputs": [],
   "source": [
    "# import \n",
    "import selenium\n",
    "from time import sleep\n",
    "from selenium import webdriver\n",
    "import warnings\n",
    "warnings.filterwarnings('ignore')\n",
    "from selenium.webdriver.common.by import By\n",
    "from selenium.webdriver.common.keys import Keys\n",
    "import pandas as pd"
   ]
  },
  {
   "cell_type": "code",
   "execution_count": 56,
   "id": "8ab5589a",
   "metadata": {},
   "outputs": [],
   "source": [
    "#question1 and question2\n",
    "driver = webdriver.Firefox()\n",
    "driver.get('https://www.amazon.co.uk/')\n",
    "sleep(5)\n",
    "           \n",
    "# search for product\n",
    "product = driver.find_element(By.ID,\"twotabsearchtextbox\")\n",
    "product.send_keys('guitar')\n",
    "\n",
    "serach_button = driver.find_element(By.ID,\"nav-search-submit-button\")\n",
    "serach_button.click()\n",
    "sleep(5)  "
   ]
  },
  {
   "cell_type": "code",
   "execution_count": 60,
   "id": "49ed0801",
   "metadata": {},
   "outputs": [
    {
     "name": "stdout",
     "output_type": "stream",
     "text": [
      "60 60 0\n"
     ]
    }
   ],
   "source": [
    "#Brand Name,Name of the Product,Price,Return/Exchange,Expected Delivery,Availability and Product URL\n",
    "brand_name=[]\n",
    "delivery=[]\n",
    "price_detials=[]\n",
    "\n",
    "all_products = driver.find_elements(By.XPATH,'//div[@data-component-type=\"s-search-result\"]')\n",
    "\n",
    "for product in all_products:\n",
    "\n",
    "    brands = product.find_elements(By.XPATH,'.//span[@class=\"a-size-base-plus a-color-base a-text-normal\"]')\n",
    "    for brand in brands:\n",
    "        brand_name.append(brand.text)\n",
    "        \n",
    "    prices = product.find_elements(By.XPATH,'.//div[@class=\"a-section a-spacing-none a-spacing-top-small s-price-instructions-style\"]')\n",
    "    for price in prices:\n",
    "        price_detials.append(price.text)\n",
    "        \n",
    "try:\n",
    "    if len(product.find_elements(By.XPATH,'.//span[@class=\"a-declarative\"]'))>0:\n",
    "        devi = product.find_elements(By.XPATH,'.//span[@class=\"a-declarative\"]')\n",
    "        print(len(devi))\n",
    "        for dev in devi:\n",
    "            delivery.append(dev.text)\n",
    "    else:\n",
    "        delivery.append(\"0\")\n",
    "except:\n",
    "    pass\n",
    "    \n",
    "print(len(brand_name),len(price_detials),len(delivery))\n",
    "\n",
    "\n",
    "df = pd.DataFrame(zip(brand_name,price_detials,delivery),columns=['Brand_name','Price','Delivery'])\n",
    "df.to_excel(r\"C:\\Users\\mohammes\\Documents\\personal\\guitar.xlsx\",index=False)\n"
   ]
  },
  {
   "cell_type": "code",
   "execution_count": 61,
   "id": "85a52f3c",
   "metadata": {},
   "outputs": [
    {
     "name": "stdout",
     "output_type": "stream",
     "text": [
      "scraping page 1\n",
      "scraping page 2\n"
     ]
    },
    {
     "ename": "NoSuchElementException",
     "evalue": "Message: Unable to locate element: a.s-pagination-item:nth-child(8); For documentation on this error, please visit: https://www.selenium.dev/documentation/webdriver/troubleshooting/errors#no-such-element-exception\nStacktrace:\nRemoteError@chrome://remote/content/shared/RemoteError.sys.mjs:8:8\nWebDriverError@chrome://remote/content/shared/webdriver/Errors.sys.mjs:193:5\nNoSuchElementError@chrome://remote/content/shared/webdriver/Errors.sys.mjs:511:5\ndom.find/</<@chrome://remote/content/shared/DOM.sys.mjs:136:16\n",
     "output_type": "error",
     "traceback": [
      "\u001b[1;31m---------------------------------------------------------------------------\u001b[0m",
      "\u001b[1;31mNoSuchElementException\u001b[0m                    Traceback (most recent call last)",
      "Cell \u001b[1;32mIn[61], line 6\u001b[0m\n\u001b[0;32m      4\u001b[0m brand \u001b[38;5;241m=\u001b[39m driver\u001b[38;5;241m.\u001b[39mfind_elements(By\u001b[38;5;241m.\u001b[39mXPATH,\u001b[38;5;124m'\u001b[39m\u001b[38;5;124m//span[@class=\u001b[39m\u001b[38;5;124m\"\u001b[39m\u001b[38;5;124ma-size-base-plus a-color-base a-text-normal\u001b[39m\u001b[38;5;124m\"\u001b[39m\u001b[38;5;124m]\u001b[39m\u001b[38;5;124m'\u001b[39m)\n\u001b[0;32m      5\u001b[0m brands\u001b[38;5;241m.\u001b[39mextend(brand)\n\u001b[1;32m----> 6\u001b[0m next_button \u001b[38;5;241m=\u001b[39m driver\u001b[38;5;241m.\u001b[39mfind_element(By\u001b[38;5;241m.\u001b[39mCSS_SELECTOR,\u001b[38;5;124m\"\u001b[39m\u001b[38;5;124ma.s-pagination-item:nth-child(8)\u001b[39m\u001b[38;5;124m\"\u001b[39m)\n\u001b[0;32m      7\u001b[0m sleep(\u001b[38;5;241m2\u001b[39m)\n\u001b[0;32m      8\u001b[0m next_button\u001b[38;5;241m.\u001b[39mclick()\n",
      "File \u001b[1;32m~\\AppData\\Local\\anaconda3\\Lib\\site-packages\\selenium\\webdriver\\remote\\webdriver.py:741\u001b[0m, in \u001b[0;36mWebDriver.find_element\u001b[1;34m(self, by, value)\u001b[0m\n\u001b[0;32m    738\u001b[0m     by \u001b[38;5;241m=\u001b[39m By\u001b[38;5;241m.\u001b[39mCSS_SELECTOR\n\u001b[0;32m    739\u001b[0m     value \u001b[38;5;241m=\u001b[39m \u001b[38;5;124mf\u001b[39m\u001b[38;5;124m'\u001b[39m\u001b[38;5;124m[name=\u001b[39m\u001b[38;5;124m\"\u001b[39m\u001b[38;5;132;01m{\u001b[39;00mvalue\u001b[38;5;132;01m}\u001b[39;00m\u001b[38;5;124m\"\u001b[39m\u001b[38;5;124m]\u001b[39m\u001b[38;5;124m'\u001b[39m\n\u001b[1;32m--> 741\u001b[0m \u001b[38;5;28;01mreturn\u001b[39;00m \u001b[38;5;28mself\u001b[39m\u001b[38;5;241m.\u001b[39mexecute(Command\u001b[38;5;241m.\u001b[39mFIND_ELEMENT, {\u001b[38;5;124m\"\u001b[39m\u001b[38;5;124musing\u001b[39m\u001b[38;5;124m\"\u001b[39m: by, \u001b[38;5;124m\"\u001b[39m\u001b[38;5;124mvalue\u001b[39m\u001b[38;5;124m\"\u001b[39m: value})[\u001b[38;5;124m\"\u001b[39m\u001b[38;5;124mvalue\u001b[39m\u001b[38;5;124m\"\u001b[39m]\n",
      "File \u001b[1;32m~\\AppData\\Local\\anaconda3\\Lib\\site-packages\\selenium\\webdriver\\remote\\webdriver.py:347\u001b[0m, in \u001b[0;36mWebDriver.execute\u001b[1;34m(self, driver_command, params)\u001b[0m\n\u001b[0;32m    345\u001b[0m response \u001b[38;5;241m=\u001b[39m \u001b[38;5;28mself\u001b[39m\u001b[38;5;241m.\u001b[39mcommand_executor\u001b[38;5;241m.\u001b[39mexecute(driver_command, params)\n\u001b[0;32m    346\u001b[0m \u001b[38;5;28;01mif\u001b[39;00m response:\n\u001b[1;32m--> 347\u001b[0m     \u001b[38;5;28mself\u001b[39m\u001b[38;5;241m.\u001b[39merror_handler\u001b[38;5;241m.\u001b[39mcheck_response(response)\n\u001b[0;32m    348\u001b[0m     response[\u001b[38;5;124m\"\u001b[39m\u001b[38;5;124mvalue\u001b[39m\u001b[38;5;124m\"\u001b[39m] \u001b[38;5;241m=\u001b[39m \u001b[38;5;28mself\u001b[39m\u001b[38;5;241m.\u001b[39m_unwrap_value(response\u001b[38;5;241m.\u001b[39mget(\u001b[38;5;124m\"\u001b[39m\u001b[38;5;124mvalue\u001b[39m\u001b[38;5;124m\"\u001b[39m, \u001b[38;5;28;01mNone\u001b[39;00m))\n\u001b[0;32m    349\u001b[0m     \u001b[38;5;28;01mreturn\u001b[39;00m response\n",
      "File \u001b[1;32m~\\AppData\\Local\\anaconda3\\Lib\\site-packages\\selenium\\webdriver\\remote\\errorhandler.py:229\u001b[0m, in \u001b[0;36mErrorHandler.check_response\u001b[1;34m(self, response)\u001b[0m\n\u001b[0;32m    227\u001b[0m         alert_text \u001b[38;5;241m=\u001b[39m value[\u001b[38;5;124m\"\u001b[39m\u001b[38;5;124malert\u001b[39m\u001b[38;5;124m\"\u001b[39m]\u001b[38;5;241m.\u001b[39mget(\u001b[38;5;124m\"\u001b[39m\u001b[38;5;124mtext\u001b[39m\u001b[38;5;124m\"\u001b[39m)\n\u001b[0;32m    228\u001b[0m     \u001b[38;5;28;01mraise\u001b[39;00m exception_class(message, screen, stacktrace, alert_text)  \u001b[38;5;66;03m# type: ignore[call-arg]  # mypy is not smart enough here\u001b[39;00m\n\u001b[1;32m--> 229\u001b[0m \u001b[38;5;28;01mraise\u001b[39;00m exception_class(message, screen, stacktrace)\n",
      "\u001b[1;31mNoSuchElementException\u001b[0m: Message: Unable to locate element: a.s-pagination-item:nth-child(8); For documentation on this error, please visit: https://www.selenium.dev/documentation/webdriver/troubleshooting/errors#no-such-element-exception\nStacktrace:\nRemoteError@chrome://remote/content/shared/RemoteError.sys.mjs:8:8\nWebDriverError@chrome://remote/content/shared/webdriver/Errors.sys.mjs:193:5\nNoSuchElementError@chrome://remote/content/shared/webdriver/Errors.sys.mjs:511:5\ndom.find/</<@chrome://remote/content/shared/DOM.sys.mjs:136:16\n"
     ]
    }
   ],
   "source": [
    "#scrape the guitar for 3 pages\n",
    "for i in range(2):\n",
    "    print('scraping page',i+1)\n",
    "    brand = driver.find_elements(By.XPATH,'//span[@class=\"a-size-base-plus a-color-base a-text-normal\"]')\n",
    "    brands.extend(brand)\n",
    "    next_button = driver.find_element(By.CSS_SELECTOR,\"a.s-pagination-item:nth-child(8)\")\n",
    "    sleep(2)\n",
    "    next_button.click()\n",
    "\n",
    "    "
   ]
  },
  {
   "cell_type": "code",
   "execution_count": 50,
   "id": "5197e3cc",
   "metadata": {},
   "outputs": [
    {
     "ename": "WebDriverException",
     "evalue": "Message: Failed to decode response from marionette\n",
     "output_type": "error",
     "traceback": [
      "\u001b[1;31m---------------------------------------------------------------------------\u001b[0m",
      "\u001b[1;31mWebDriverException\u001b[0m                        Traceback (most recent call last)",
      "Cell \u001b[1;32mIn[50], line 8\u001b[0m\n\u001b[0;32m      5\u001b[0m sleep(\u001b[38;5;241m10\u001b[39m)\n\u001b[0;32m      7\u001b[0m \u001b[38;5;66;03m# Find the search input field and enter the city name\u001b[39;00m\n\u001b[1;32m----> 8\u001b[0m search_box \u001b[38;5;241m=\u001b[39m driver\u001b[38;5;241m.\u001b[39mfind_element(By\u001b[38;5;241m.\u001b[39mXPATH,\u001b[38;5;124m'\u001b[39m\u001b[38;5;124m//*[@id=\u001b[39m\u001b[38;5;124m\"\u001b[39m\u001b[38;5;124msearchboxinput\u001b[39m\u001b[38;5;124m\"\u001b[39m\u001b[38;5;124m]\u001b[39m\u001b[38;5;124m'\u001b[39m)\n\u001b[0;32m      9\u001b[0m city_name \u001b[38;5;241m=\u001b[39m \u001b[38;5;124m\"\u001b[39m\u001b[38;5;124mYour City Name\u001b[39m\u001b[38;5;124m\"\u001b[39m\n\u001b[0;32m     10\u001b[0m search_box\u001b[38;5;241m.\u001b[39msend_keys(\u001b[38;5;124m'\u001b[39m\u001b[38;5;124mBangalore\u001b[39m\u001b[38;5;124m'\u001b[39m)\n",
      "File \u001b[1;32m~\\AppData\\Local\\anaconda3\\Lib\\site-packages\\selenium\\webdriver\\remote\\webdriver.py:741\u001b[0m, in \u001b[0;36mWebDriver.find_element\u001b[1;34m(self, by, value)\u001b[0m\n\u001b[0;32m    738\u001b[0m     by \u001b[38;5;241m=\u001b[39m By\u001b[38;5;241m.\u001b[39mCSS_SELECTOR\n\u001b[0;32m    739\u001b[0m     value \u001b[38;5;241m=\u001b[39m \u001b[38;5;124mf\u001b[39m\u001b[38;5;124m'\u001b[39m\u001b[38;5;124m[name=\u001b[39m\u001b[38;5;124m\"\u001b[39m\u001b[38;5;132;01m{\u001b[39;00mvalue\u001b[38;5;132;01m}\u001b[39;00m\u001b[38;5;124m\"\u001b[39m\u001b[38;5;124m]\u001b[39m\u001b[38;5;124m'\u001b[39m\n\u001b[1;32m--> 741\u001b[0m \u001b[38;5;28;01mreturn\u001b[39;00m \u001b[38;5;28mself\u001b[39m\u001b[38;5;241m.\u001b[39mexecute(Command\u001b[38;5;241m.\u001b[39mFIND_ELEMENT, {\u001b[38;5;124m\"\u001b[39m\u001b[38;5;124musing\u001b[39m\u001b[38;5;124m\"\u001b[39m: by, \u001b[38;5;124m\"\u001b[39m\u001b[38;5;124mvalue\u001b[39m\u001b[38;5;124m\"\u001b[39m: value})[\u001b[38;5;124m\"\u001b[39m\u001b[38;5;124mvalue\u001b[39m\u001b[38;5;124m\"\u001b[39m]\n",
      "File \u001b[1;32m~\\AppData\\Local\\anaconda3\\Lib\\site-packages\\selenium\\webdriver\\remote\\webdriver.py:347\u001b[0m, in \u001b[0;36mWebDriver.execute\u001b[1;34m(self, driver_command, params)\u001b[0m\n\u001b[0;32m    345\u001b[0m response \u001b[38;5;241m=\u001b[39m \u001b[38;5;28mself\u001b[39m\u001b[38;5;241m.\u001b[39mcommand_executor\u001b[38;5;241m.\u001b[39mexecute(driver_command, params)\n\u001b[0;32m    346\u001b[0m \u001b[38;5;28;01mif\u001b[39;00m response:\n\u001b[1;32m--> 347\u001b[0m     \u001b[38;5;28mself\u001b[39m\u001b[38;5;241m.\u001b[39merror_handler\u001b[38;5;241m.\u001b[39mcheck_response(response)\n\u001b[0;32m    348\u001b[0m     response[\u001b[38;5;124m\"\u001b[39m\u001b[38;5;124mvalue\u001b[39m\u001b[38;5;124m\"\u001b[39m] \u001b[38;5;241m=\u001b[39m \u001b[38;5;28mself\u001b[39m\u001b[38;5;241m.\u001b[39m_unwrap_value(response\u001b[38;5;241m.\u001b[39mget(\u001b[38;5;124m\"\u001b[39m\u001b[38;5;124mvalue\u001b[39m\u001b[38;5;124m\"\u001b[39m, \u001b[38;5;28;01mNone\u001b[39;00m))\n\u001b[0;32m    349\u001b[0m     \u001b[38;5;28;01mreturn\u001b[39;00m response\n",
      "File \u001b[1;32m~\\AppData\\Local\\anaconda3\\Lib\\site-packages\\selenium\\webdriver\\remote\\errorhandler.py:229\u001b[0m, in \u001b[0;36mErrorHandler.check_response\u001b[1;34m(self, response)\u001b[0m\n\u001b[0;32m    227\u001b[0m         alert_text \u001b[38;5;241m=\u001b[39m value[\u001b[38;5;124m\"\u001b[39m\u001b[38;5;124malert\u001b[39m\u001b[38;5;124m\"\u001b[39m]\u001b[38;5;241m.\u001b[39mget(\u001b[38;5;124m\"\u001b[39m\u001b[38;5;124mtext\u001b[39m\u001b[38;5;124m\"\u001b[39m)\n\u001b[0;32m    228\u001b[0m     \u001b[38;5;28;01mraise\u001b[39;00m exception_class(message, screen, stacktrace, alert_text)  \u001b[38;5;66;03m# type: ignore[call-arg]  # mypy is not smart enough here\u001b[39;00m\n\u001b[1;32m--> 229\u001b[0m \u001b[38;5;28;01mraise\u001b[39;00m exception_class(message, screen, stacktrace)\n",
      "\u001b[1;31mWebDriverException\u001b[0m: Message: Failed to decode response from marionette\n"
     ]
    }
   ],
   "source": [
    "#Question5\n",
    "# Open Google Maps\n",
    "driver = webdriver.Firefox()\n",
    "driver.get(\"https://www.google.com/maps\")\n",
    "sleep(10)\n",
    "\n",
    "# Find the search input field and enter the city name\n",
    "search_box = driver.find_element(By.XPATH,'//*[@id=\"searchboxinput\"]')\n",
    "city_name = \"Your City Name\"\n",
    "search_box.send_keys('Bangalore')\n",
    "search_box.send_keys(Keys.RETURN)\n",
    "\n",
    "# Wait for the map to load\n",
    "sleep(5)\n",
    "\n",
    "# Extract the URL which contains the latitude and longitude\n",
    "url_with_coordinates = driver.current_url\n",
    "\n",
    "# Parse the latitude and longitude from the URL\n",
    "coordinates = url_with_coordinates.split('@')[1].split(',')[0:2]\n",
    "latitude = coordinates[0]\n",
    "longitude = coordinates[1]\n",
    "\n",
    "# Print the latitude and longitude\n",
    "print(\"Latitude:\", latitude)\n",
    "print(\"Longitude:\", longitude)\n",
    "\n",
    "# Close the browser\n",
    "driver.quit()"
   ]
  },
  {
   "cell_type": "code",
   "execution_count": 29,
   "id": "27467010",
   "metadata": {},
   "outputs": [
    {
     "name": "stdout",
     "output_type": "stream",
     "text": [
      "0 0\n"
     ]
    }
   ],
   "source": [
    "#Question 6\n",
    "# Open the website\n",
    "driver = webdriver.Firefox()\n",
    "driver.get('https://www.digit.in/')\n",
    "sleep(5)\n",
    "\n",
    "# Search for gaming laptops\n",
    "search_bar = driver.find_element(By.ID,\"woocommerce-product-search-field-0\")\n",
    "search_bar.send_keys('gaming laptops')\n",
    "search_bar.submit()\n",
    "\n",
    "# Wait for the search results to load\n",
    "sleep(2)\n",
    "\n",
    "# Scrape the details\n",
    "brand_name=[]\n",
    "price_detials=[]\n",
    "name = driver.find_elements(By.XPATH,'//h3[@class=\"text-clamp text-clamp-2\"]')\n",
    "for names in name:\n",
    "    brand_name.append(names.text)\n",
    "price = driver.find_elements(By.XPATH,'//span[@class=\"price\"]')                           \n",
    "for prices in price:\n",
    "    price_detials.append(prices.text) \n",
    "    \n",
    "print(len(brand_name),len(price_detials))\n",
    "  #  df=pd.DataFrame({'Brand':brand_name,'Price':price_detials})\n",
    "    #df"
   ]
  },
  {
   "cell_type": "code",
   "execution_count": 34,
   "id": "9c1c9619",
   "metadata": {},
   "outputs": [],
   "source": [
    "#Question 7\n",
    "driver = webdriver.Firefox()\n",
    "video_url = 'https://www.youtube.com/watch?v=AzvZEbYMqtw'  # Replace with the URL of the YouTube video\n",
    "driver.get(video_url)\n",
    "sleep(10)\n",
    "\n",
    "# Scroll to load comments\n",
    "scroll_pause_time = 2  # Adjust the pause time as needed\n",
    "scrolls = 10  # Adjust the number of scrolls as needed\n",
    "\n",
    "for _ in range(scrolls):\n",
    "    driver.execute_script(\"window.scrollTo(0, document.documentElement.scrollHeight);\")\n",
    "    sleep(scroll_pause_time)\n",
    "\n",
    "# Extract comments, upvotes, and time\n",
    "comments = driver.find_elements(By.XPATH,'//yt-formatted-string[@id=\"content-text\"]')\n",
    "upvotes = driver.find_elements(By.XPATH,'//span[@id=\"vote-count-middle\"]')\n",
    "times = driver.find_elements(By.XPATH,'//a[@class=\"yt-simple-endpoint style-scope yt-formatted-string\"]')\n",
    "\n",
    "# Store the extracted data\n",
    "extracted_data = []\n",
    "for comment, upvote, time in zip(comments, upvotes, times):\n",
    "     extracted_data.append({\n",
    "     'comment': comment.text,\n",
    "     'upvote': upvote.text,\n",
    "     'time': time.text\n",
    "  })"
   ]
  },
  {
   "cell_type": "code",
   "execution_count": 47,
   "id": "c35b4630",
   "metadata": {},
   "outputs": [
    {
     "ename": "IndexError",
     "evalue": "list index out of range",
     "output_type": "error",
     "traceback": [
      "\u001b[1;31m---------------------------------------------------------------------------\u001b[0m",
      "\u001b[1;31mIndexError\u001b[0m                                Traceback (most recent call last)",
      "Cell \u001b[1;32mIn[47], line 31\u001b[0m\n\u001b[0;32m     28\u001b[0m     images \u001b[38;5;241m=\u001b[39m driver\u001b[38;5;241m.\u001b[39mfind_elements(By\u001b[38;5;241m.\u001b[39mCSS_SELECTOR,\u001b[38;5;124m'\u001b[39m\u001b[38;5;124mimg.rg_i\u001b[39m\u001b[38;5;124m'\u001b[39m)\n\u001b[0;32m     30\u001b[0m \u001b[38;5;28;01mfor\u001b[39;00m i \u001b[38;5;129;01min\u001b[39;00m \u001b[38;5;28mrange\u001b[39m(\u001b[38;5;241m10\u001b[39m):\n\u001b[1;32m---> 31\u001b[0m     image_url \u001b[38;5;241m=\u001b[39m images[i]\n\u001b[0;32m     32\u001b[0m     \u001b[38;5;28mprint\u001b[39m(\u001b[38;5;124mf\u001b[39m\u001b[38;5;124m\"\u001b[39m\u001b[38;5;124mScraped image \u001b[39m\u001b[38;5;132;01m{\u001b[39;00mi\u001b[38;5;241m+\u001b[39m\u001b[38;5;241m1\u001b[39m\u001b[38;5;132;01m}\u001b[39;00m\u001b[38;5;124m for keyword \u001b[39m\u001b[38;5;124m'\u001b[39m\u001b[38;5;132;01m{\u001b[39;00mkeyword\u001b[38;5;132;01m}\u001b[39;00m\u001b[38;5;124m'\u001b[39m\u001b[38;5;124m: \u001b[39m\u001b[38;5;132;01m{\u001b[39;00mimage_url\u001b[38;5;132;01m}\u001b[39;00m\u001b[38;5;124m\"\u001b[39m)\n\u001b[0;32m     34\u001b[0m   \u001b[38;5;66;03m# Go back to the search page\u001b[39;00m\n",
      "\u001b[1;31mIndexError\u001b[0m: list index out of range"
     ]
    }
   ],
   "source": [
    "#Question 3\n",
    "driver = webdriver.Firefox()\n",
    "driver.get('https://images.google.com')\n",
    "sleep(5)\n",
    "# Define the keywords\n",
    "keywords = ['fruits', 'cars', 'Machine Learning', 'Guitar', 'Cakes']\n",
    "\n",
    "# Scrape 10 images for each keyword\n",
    "for keyword in keywords:\n",
    "  # Find the search bar element and enter the keyword\n",
    "    search_bar = driver.find_element(By.NAME,'q')\n",
    "    search_bar.clear()\n",
    "    search_bar.send_keys(keyword)\n",
    "  \n",
    "  # Find the search button element and click it\n",
    "    search_button = driver.find_element(By.CSS_SELECTOR,'button[type=\"submit\"]')\n",
    "    sleep(2)\n",
    "    search_button.click()\n",
    "  \n",
    "  # Wait for the page to load\n",
    "    sleep(2)\n",
    "  \n",
    "  # Scroll down to load more images\n",
    "    driver.execute_script(\"window.scrollTo(0, document.body.scrollHeight);\")\n",
    "    sleep(2)\n",
    "  \n",
    "  # Scrape the images\n",
    "    images = driver.find_elements(By.CSS_SELECTOR,'img.rg_i')\n",
    "    \n",
    "for i in range(10):\n",
    "    image_url = images[i]\n",
    "    print(f\"Scraped image {i+1} for keyword '{keyword}': {image_url}\")\n",
    "  \n",
    "  # Go back to the search page\n",
    "    driver.execute_script(\"window.history.go(-1)\")\n",
    "    sleep(2)\n",
    "# Close the browser\n",
    "driver.quit()"
   ]
  },
  {
   "cell_type": "code",
   "execution_count": 36,
   "id": "89bd2293",
   "metadata": {},
   "outputs": [],
   "source": [
    "#Question 9\n",
    "# Open the website\n",
    "driver = webdriver.Firefox()\n",
    "driver.get('https://www.hostelworld.com/hostels/London')\n",
    "sleep(5)\n",
    "\n",
    "all_name=[]\n",
    "all_distance=[]\n",
    "all_ratings=[]"
   ]
  },
  {
   "cell_type": "code",
   "execution_count": 37,
   "id": "6d54ba29",
   "metadata": {},
   "outputs": [
    {
     "name": "stdout",
     "output_type": "stream",
     "text": [
      "30 30 30\n"
     ]
    }
   ],
   "source": [
    "hostels = driver.find_elements(By.XPATH,'//div[@class=\"property-listing-cards\"]')\n",
    "for hostel in hostels:\n",
    "    name = hostel.find_elements(By.XPATH,'.//div[@class=\"property-name\"]')  # Extract hostel name\n",
    "    for names in name:\n",
    "        all_name.append(names.text)\n",
    "        \n",
    "    distance = hostel.find_elements(By.XPATH,'.//div[@class=\"property-distance\"]')# Extract distance\n",
    "    for distances in distance:\n",
    "        all_distance.append(distances.text)\n",
    "   \n",
    "      # Extract ratings\n",
    "    ratings = hostel.find_elements(By.XPATH,'.//div[@class=\"rating-score\"]')\n",
    "    for rating in ratings:\n",
    "        all_ratings.append(rating.text)\n",
    "\n",
    "   # Print the extracted information\n",
    "print(len(all_name),len(all_distance),len(all_ratings))\n"
   ]
  },
  {
   "cell_type": "code",
   "execution_count": 38,
   "id": "39271c31",
   "metadata": {},
   "outputs": [],
   "source": [
    "df = pd.DataFrame(zip(all_name,all_distance,all_ratings),columns=['Hostel Name','Distace','Ratings'])\n",
    "df.to_excel(r\"C:\\Users\\mohammes\\Documents\\personal\\hostels.xlsx\",index=False)"
   ]
  },
  {
   "cell_type": "code",
   "execution_count": null,
   "id": "23c7962e",
   "metadata": {},
   "outputs": [],
   "source": [
    "#Question 4 I m from UK So, Flipkart is access is diened "
   ]
  }
 ],
 "metadata": {
  "kernelspec": {
   "display_name": "Python 3 (ipykernel)",
   "language": "python",
   "name": "python3"
  },
  "language_info": {
   "codemirror_mode": {
    "name": "ipython",
    "version": 3
   },
   "file_extension": ".py",
   "mimetype": "text/x-python",
   "name": "python",
   "nbconvert_exporter": "python",
   "pygments_lexer": "ipython3",
   "version": "3.11.5"
  }
 },
 "nbformat": 4,
 "nbformat_minor": 5
}
